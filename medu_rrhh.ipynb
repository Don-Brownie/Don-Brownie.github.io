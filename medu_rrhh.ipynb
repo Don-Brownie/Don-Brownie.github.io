{
 "cells": [
  {
   "cell_type": "code",
   "execution_count": 16,
   "id": "6a4cd87f-4577-4e55-8687-3a83f3fe577e",
   "metadata": {},
   "outputs": [
    {
     "name": "stdout",
     "output_type": "stream",
     "text": [
      "Collecting qvd\n",
      "  Downloading qvd-0.0.15-cp311-none-win_amd64.whl.metadata (2.9 kB)\n",
      "Downloading qvd-0.0.15-cp311-none-win_amd64.whl (513 kB)\n",
      "   ---------------------------------------- 0.0/513.3 kB ? eta -:--:--\n",
      "    --------------------------------------- 10.2/513.3 kB ? eta -:--:--\n",
      "   ----- --------------------------------- 71.7/513.3 kB 975.2 kB/s eta 0:00:01\n",
      "   --------------------------- ------------ 358.4/513.3 kB 3.2 MB/s eta 0:00:01\n",
      "   ---------------------------------------- 513.3/513.3 kB 3.6 MB/s eta 0:00:00\n",
      "Installing collected packages: qvd\n",
      "Successfully installed qvd-0.0.15\n"
     ]
    }
   ],
   "source": [
    "import pandas as pd\n",
    "from qvd import qvd_reader\n",
    "\n",
    "# Replace 'your_file.qvd' with the path to your QVD file\n",
    "qvd_file_path = 'C:/Users/bmala/Downloads/202405 Padron de empleados Mayo ordenado 2024.qvd'\n",
    "\n",
    "# Read the QVD file\n",
    "qvd = qvd_reader.read(qvd_file_path)\n",
    "\n",
    "# Convert to pandas DataFrame\n",
    "df = pd.DataFrame(qvd)"
   ]
  },
  {
   "cell_type": "code",
   "execution_count": 18,
   "id": "9037b0b8-a385-4f62-817e-da6b22b658cd",
   "metadata": {},
   "outputs": [
    {
     "data": {
      "text/html": [
       "<div>\n",
       "<style scoped>\n",
       "    .dataframe tbody tr th:only-of-type {\n",
       "        vertical-align: middle;\n",
       "    }\n",
       "\n",
       "    .dataframe tbody tr th {\n",
       "        vertical-align: top;\n",
       "    }\n",
       "\n",
       "    .dataframe thead th {\n",
       "        text-align: right;\n",
       "    }\n",
       "</style>\n",
       "<table border=\"1\" class=\"dataframe\">\n",
       "  <thead>\n",
       "    <tr style=\"text-align: right;\">\n",
       "      <th></th>\n",
       "      <th>Periodo</th>\n",
       "      <th>ID HR</th>\n",
       "      <th>ROL</th>\n",
       "      <th>Nombre Puesto</th>\n",
       "      <th>Horas Semanales</th>\n",
       "      <th>ID situacion de revista</th>\n",
       "      <th>Situacion de revista</th>\n",
       "      <th>ID JCatego</th>\n",
       "      <th>JCatego</th>\n",
       "      <th>Nombre y Apellido</th>\n",
       "      <th>...</th>\n",
       "      <th>Inicio Eximicion Firma</th>\n",
       "      <th>Fin Eximicion Firma</th>\n",
       "      <th>AV</th>\n",
       "      <th>AW</th>\n",
       "      <th>AX</th>\n",
       "      <th>AY</th>\n",
       "      <th>AZ</th>\n",
       "      <th>BA</th>\n",
       "      <th>BB</th>\n",
       "      <th>BC</th>\n",
       "    </tr>\n",
       "  </thead>\n",
       "  <tbody>\n",
       "    <tr>\n",
       "      <th>0</th>\n",
       "      <td>1</td>\n",
       "      <td>104553</td>\n",
       "      <td>1</td>\n",
       "      <td>PROFESOR HORA-CATEDRA</td>\n",
       "      <td>3</td>\n",
       "      <td>1</td>\n",
       "      <td>Activo</td>\n",
       "      <td>None</td>\n",
       "      <td>None</td>\n",
       "      <td>CHUMBA, JUAN CARLOS</td>\n",
       "      <td>...</td>\n",
       "      <td>None</td>\n",
       "      <td>None</td>\n",
       "      <td>74</td>\n",
       "      <td>Cese</td>\n",
       "      <td>EXP/1558707/MGEYA/2012</td>\n",
       "      <td>None</td>\n",
       "      <td>None</td>\n",
       "      <td>None</td>\n",
       "      <td>None</td>\n",
       "      <td>408869</td>\n",
       "    </tr>\n",
       "    <tr>\n",
       "      <th>1</th>\n",
       "      <td>1</td>\n",
       "      <td>105531</td>\n",
       "      <td>1</td>\n",
       "      <td>PERSONAL DE GABINETE</td>\n",
       "      <td>35</td>\n",
       "      <td>1</td>\n",
       "      <td>Activo</td>\n",
       "      <td>None</td>\n",
       "      <td>None</td>\n",
       "      <td>OTA?O, TOMAS JULIO</td>\n",
       "      <td>...</td>\n",
       "      <td>None</td>\n",
       "      <td>None</td>\n",
       "      <td>51</td>\n",
       "      <td>Renuncia</td>\n",
       "      <td>RES/313/MMGC/2013</td>\n",
       "      <td>None</td>\n",
       "      <td>None</td>\n",
       "      <td>None</td>\n",
       "      <td>None</td>\n",
       "      <td>933019</td>\n",
       "    </tr>\n",
       "    <tr>\n",
       "      <th>2</th>\n",
       "      <td>1</td>\n",
       "      <td>108192</td>\n",
       "      <td>1</td>\n",
       "      <td>PROFESOR HORA-CATEDRA</td>\n",
       "      <td>4</td>\n",
       "      <td>1</td>\n",
       "      <td>Activo</td>\n",
       "      <td>None</td>\n",
       "      <td>None</td>\n",
       "      <td>QUINTANA, ENRIQUE JOS</td>\n",
       "      <td>...</td>\n",
       "      <td>None</td>\n",
       "      <td>None</td>\n",
       "      <td>74</td>\n",
       "      <td>Cese</td>\n",
       "      <td>EXP/1695499/MGEYA/2011</td>\n",
       "      <td>None</td>\n",
       "      <td>None</td>\n",
       "      <td>None</td>\n",
       "      <td>None</td>\n",
       "      <td>399284</td>\n",
       "    </tr>\n",
       "    <tr>\n",
       "      <th>3</th>\n",
       "      <td>1</td>\n",
       "      <td>109542</td>\n",
       "      <td>1</td>\n",
       "      <td>MAESTRO DE GRADO JORNADA COMPLETA</td>\n",
       "      <td>35</td>\n",
       "      <td>1</td>\n",
       "      <td>Activo</td>\n",
       "      <td>None</td>\n",
       "      <td>None</td>\n",
       "      <td>SOLBES, RICARDO ALBERTO</td>\n",
       "      <td>...</td>\n",
       "      <td>None</td>\n",
       "      <td>None</td>\n",
       "      <td>55</td>\n",
       "      <td>Jubilación Ordinaria</td>\n",
       "      <td>NOT/5826317/DGPDYND/2017</td>\n",
       "      <td>None</td>\n",
       "      <td>None</td>\n",
       "      <td>SE REINTEGRA DE LA LIC. 70 H.</td>\n",
       "      <td>None</td>\n",
       "      <td>594322</td>\n",
       "    </tr>\n",
       "    <tr>\n",
       "      <th>4</th>\n",
       "      <td>1</td>\n",
       "      <td>110065</td>\n",
       "      <td>1</td>\n",
       "      <td>AYUDANTE DE TRABAJOS PRACTICOS</td>\n",
       "      <td>18</td>\n",
       "      <td>1</td>\n",
       "      <td>Activo</td>\n",
       "      <td>None</td>\n",
       "      <td>None</td>\n",
       "      <td>MORTEO, FRANCISCO</td>\n",
       "      <td>...</td>\n",
       "      <td>None</td>\n",
       "      <td>None</td>\n",
       "      <td>74</td>\n",
       "      <td>Cese</td>\n",
       "      <td>EE/20599417/ESC200424/2017</td>\n",
       "      <td>None</td>\n",
       "      <td>None</td>\n",
       "      <td>se modifica codigo de cargo,por error venia co...</td>\n",
       "      <td>None</td>\n",
       "      <td>395417</td>\n",
       "    </tr>\n",
       "  </tbody>\n",
       "</table>\n",
       "<p>5 rows × 55 columns</p>\n",
       "</div>"
      ],
      "text/plain": [
       "  Periodo   ID HR ROL                      Nombre Puesto Horas Semanales  \\\n",
       "0       1  104553   1              PROFESOR HORA-CATEDRA               3   \n",
       "1       1  105531   1               PERSONAL DE GABINETE              35   \n",
       "2       1  108192   1              PROFESOR HORA-CATEDRA               4   \n",
       "3       1  109542   1  MAESTRO DE GRADO JORNADA COMPLETA              35   \n",
       "4       1  110065   1     AYUDANTE DE TRABAJOS PRACTICOS              18   \n",
       "\n",
       "  ID situacion de revista Situacion de revista ID JCatego JCatego  \\\n",
       "0                       1               Activo       None    None   \n",
       "1                       1               Activo       None    None   \n",
       "2                       1               Activo       None    None   \n",
       "3                       1               Activo       None    None   \n",
       "4                       1               Activo       None    None   \n",
       "\n",
       "         Nombre y Apellido  ... Inicio Eximicion Firma Fin Eximicion Firma  \\\n",
       "0      CHUMBA, JUAN CARLOS  ...                   None                None   \n",
       "1       OTA?O, TOMAS JULIO  ...                   None                None   \n",
       "2    QUINTANA, ENRIQUE JOS  ...                   None                None   \n",
       "3  SOLBES, RICARDO ALBERTO  ...                   None                None   \n",
       "4        MORTEO, FRANCISCO  ...                   None                None   \n",
       "\n",
       "   AV                    AW                          AX    AY    AZ  \\\n",
       "0  74                  Cese      EXP/1558707/MGEYA/2012  None  None   \n",
       "1  51              Renuncia           RES/313/MMGC/2013  None  None   \n",
       "2  74                  Cese      EXP/1695499/MGEYA/2011  None  None   \n",
       "3  55  Jubilación Ordinaria    NOT/5826317/DGPDYND/2017  None  None   \n",
       "4  74                  Cese  EE/20599417/ESC200424/2017  None  None   \n",
       "\n",
       "                                                  BA    BB      BC  \n",
       "0                                               None  None  408869  \n",
       "1                                               None  None  933019  \n",
       "2                                               None  None  399284  \n",
       "3                      SE REINTEGRA DE LA LIC. 70 H.  None  594322  \n",
       "4  se modifica codigo de cargo,por error venia co...  None  395417  \n",
       "\n",
       "[5 rows x 55 columns]"
      ]
     },
     "execution_count": 18,
     "metadata": {},
     "output_type": "execute_result"
    }
   ],
   "source": [
    "df.head()"
   ]
  },
  {
   "cell_type": "code",
   "execution_count": 17,
   "id": "ac8b5c53-748c-4337-9053-3e68830da233",
   "metadata": {},
   "outputs": [
    {
     "data": {
      "text/plain": [
       "(1300247, 55)"
      ]
     },
     "execution_count": 17,
     "metadata": {},
     "output_type": "execute_result"
    }
   ],
   "source": [
    "\n",
    "# Display the DataFrame\n",
    "df.shape\n"
   ]
  },
  {
   "cell_type": "code",
   "execution_count": 20,
   "id": "ba653883-aca7-4e9d-a690-60ef88cc44fd",
   "metadata": {},
   "outputs": [
    {
     "data": {
      "text/plain": [
       "Index(['Periodo', 'ID HR', 'ROL', 'Nombre Puesto', 'Horas Semanales',\n",
       "       'ID situacion de revista', 'Situacion de revista', 'ID JCatego',\n",
       "       'JCatego', 'Nombre y Apellido', 'Ficha', 'ID C?digo de Registro',\n",
       "       'C?digo de Registro', 'Codigo de estructura escalafonaria',\n",
       "       'ID Codigo de Situacion', 'Codigo de Situacion',\n",
       "       'Fecha de fin en Unidad Organizativa', 'CUIL', 'Fecha de Nacimiento',\n",
       "       'Fecha de inicio en Unidad Organizativa', 'ID Unidad Organizativa',\n",
       "       'Nombre Unidad Organizativa', 'Fecha de inicio del Rol',\n",
       "       'Fecha de fin del Rol', 'ID Puesto',\n",
       "       'Documentacion respaldatoria de Alta', 'SCO_DT_PAY',\n",
       "       'CAR_ID_COD_REGISTR', 'Recha fin C?digo de registro',\n",
       "       'Fecha inicio C?digo de registro', 'Codigo de Licencia',\n",
       "       'CAR_ASIG_CARGO', 'SAR_U_CONC_FIJOS_R', 'Nivel y grado', 'CAR_ID_NIVEL',\n",
       "       'Motivo cambio', 'Correo', 'Nro de Documento', 'Tipo de Documento',\n",
       "       'Sexo', 'Antiguedad Gral', 'Total Desc', 'Total Asig', 'Total Liqu',\n",
       "       'Tipo de Horas', 'Inicio Eximicion Firma', 'Fin Eximicion Firma', 'AV',\n",
       "       'AW', 'AX', 'AY', 'AZ', 'BA', 'BB', 'BC'],\n",
       "      dtype='object')"
      ]
     },
     "execution_count": 20,
     "metadata": {},
     "output_type": "execute_result"
    }
   ],
   "source": [
    "df.columns"
   ]
  },
  {
   "cell_type": "code",
   "execution_count": 31,
   "id": "78b0de86-8868-4bf7-a5be-296b4ae40824",
   "metadata": {},
   "outputs": [
    {
     "data": {
      "text/plain": [
       "(286098, 55)"
      ]
     },
     "execution_count": 31,
     "metadata": {},
     "output_type": "execute_result"
    }
   ],
   "source": [
    "df = df.dropna(subset = ['Total Asig'])\n",
    "df.shape"
   ]
  },
  {
   "cell_type": "code",
   "execution_count": 34,
   "id": "c9901c5d-953b-4197-b77f-c395312cd8c0",
   "metadata": {},
   "outputs": [],
   "source": [
    "df.to_csv('C:/Users/bmala/downloads/tinchin.csv', index=False)"
   ]
  },
  {
   "cell_type": "code",
   "execution_count": null,
   "id": "aa7e9282-b5d3-4c96-8b1f-88174704334b",
   "metadata": {},
   "outputs": [],
   "source": []
  }
 ],
 "metadata": {
  "kernelspec": {
   "display_name": "Python 3 (ipykernel)",
   "language": "python",
   "name": "python3"
  },
  "language_info": {
   "codemirror_mode": {
    "name": "ipython",
    "version": 3
   },
   "file_extension": ".py",
   "mimetype": "text/x-python",
   "name": "python",
   "nbconvert_exporter": "python",
   "pygments_lexer": "ipython3",
   "version": "3.11.7"
  }
 },
 "nbformat": 4,
 "nbformat_minor": 5
}
