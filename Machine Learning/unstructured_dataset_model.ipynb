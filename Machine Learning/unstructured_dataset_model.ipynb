{
 "cells": [
  {
   "cell_type": "markdown",
   "id": "cc529a9f-7fd9-4bb1-a669-b3e21a70fb9b",
   "metadata": {},
   "source": [
    "# Predicting Unstructured Data Using Convolutional Neural Networks (CNN) and Random Forests (RF)\n",
    "This is a small demonstration of two Machine Learning Models to compare its predictive power in an unstructured dataset (numerical images from the sikit learn library). This Jupyter Notebook is available for download, the code includes the import of the relevant dataset. The models will be resolving the same problem with the same dataset. Data Analysis of the results will be presented in the Looker Studio section. Be mindful of the considerations of the model specified at the end of the Notebook before extrapolating these results."
   ]
  },
  {
   "cell_type": "markdown",
   "id": "991aa2a1-a57c-444f-84dc-053821fc5e80",
   "metadata": {},
   "source": [
    "# Getting the data"
   ]
  },
  {
   "cell_type": "markdown",
   "id": "a0102e52-52ba-4ee5-b734-5d0ff603d068",
   "metadata": {},
   "source": [
    "We import load_digits from sklearn, the object that contains the digits dataset, as well as all other libraries that are required for this anlaysis"
   ]
  },
  {
   "cell_type": "code",
   "execution_count": 4,
   "id": "ff1c88ad-25e8-45b2-86d4-dc79622a614b",
   "metadata": {},
   "outputs": [
    {
     "data": {
      "image/png": "[encoded data removed]",
      "text/plain": [
       "<Figure size 640x480 with 16 Axes>"
      ]
     },
     "metadata": {},
     "output_type": "display_data"
    }
   ],
   "source": [
    "from sklearn.datasets import load_digits\n",
    "from sklearn.metrics import classification_report\n",
    "from sklearn.model_selection import train_test_split\n",
    "import matplotlib.pyplot as plt\n",
    "import numpy as np\n",
    "import pandas as pd\n",
    "import torch\n",
    "import torch.nn as nn\n",
    "import torch.nn.functional as F\n",
    "from torch.utils.data import TensorDataset, DataLoader\n",
    "from torch.utils.data import Dataset\n",
    "\n",
    "\n",
    "\n",
    "digits = load_digits()\n",
    "\n",
    "for i in range(1,17):\n",
    "    plt.subplot(4,4,i)\n",
    "    plt.imshow(digits.images[i,:,:], cmap=plt.get_cmap('gray_r'))\n"
   ]
  },
  {
   "cell_type": "markdown",
   "id": "c8711031-036c-4424-8d96-58732e1f9f50",
   "metadata": {},
   "source": [
    "We transform it into a Pandas DataFrame to utilize it for Random Forests later"
   ]
  },
  {
   "cell_type": "code",
   "execution_count": 6,
   "id": "175610b0-99e0-4d79-8d2d-9f8bdc7349e5",
   "metadata": {},
   "outputs": [
    {
     "data": {
      "text/html": [
       "<div>\n",
       "<style scoped>\n",
       "    .dataframe tbody tr th:only-of-type {\n",
       "        vertical-align: middle;\n",
       "    }\n",
       "\n",
       "    .dataframe tbody tr th {\n",
       "        vertical-align: top;\n",
       "    }\n",
       "\n",
       "    .dataframe thead th {\n",
       "        text-align: right;\n",
       "    }\n",
       "</style>\n",
       "<table border=\"1\" class=\"dataframe\">\n",
       "  <thead>\n",
       "    <tr style=\"text-align: right;\">\n",
       "      <th></th>\n",
       "      <th>pixel_0_0</th>\n",
       "      <th>pixel_0_1</th>\n",
       "      <th>pixel_0_2</th>\n",
       "      <th>pixel_0_3</th>\n",
       "      <th>pixel_0_4</th>\n",
       "      <th>pixel_0_5</th>\n",
       "      <th>pixel_0_6</th>\n",
       "      <th>pixel_0_7</th>\n",
       "      <th>pixel_1_0</th>\n",
       "      <th>pixel_1_1</th>\n",
       "      <th>...</th>\n",
       "      <th>pixel_6_7</th>\n",
       "      <th>pixel_7_0</th>\n",
       "      <th>pixel_7_1</th>\n",
       "      <th>pixel_7_2</th>\n",
       "      <th>pixel_7_3</th>\n",
       "      <th>pixel_7_4</th>\n",
       "      <th>pixel_7_5</th>\n",
       "      <th>pixel_7_6</th>\n",
       "      <th>pixel_7_7</th>\n",
       "      <th>target</th>\n",
       "    </tr>\n",
       "  </thead>\n",
       "  <tbody>\n",
       "    <tr>\n",
       "      <th>0</th>\n",
       "      <td>0.0</td>\n",
       "      <td>0.0</td>\n",
       "      <td>5.0</td>\n",
       "      <td>13.0</td>\n",
       "      <td>9.0</td>\n",
       "      <td>1.0</td>\n",
       "      <td>0.0</td>\n",
       "      <td>0.0</td>\n",
       "      <td>0.0</td>\n",
       "      <td>0.0</td>\n",
       "      <td>...</td>\n",
       "      <td>0.0</td>\n",
       "      <td>0.0</td>\n",
       "      <td>0.0</td>\n",
       "      <td>6.0</td>\n",
       "      <td>13.0</td>\n",
       "      <td>10.0</td>\n",
       "      <td>0.0</td>\n",
       "      <td>0.0</td>\n",
       "      <td>0.0</td>\n",
       "      <td>0</td>\n",
       "    </tr>\n",
       "    <tr>\n",
       "      <th>1</th>\n",
       "      <td>0.0</td>\n",
       "      <td>0.0</td>\n",
       "      <td>0.0</td>\n",
       "      <td>12.0</td>\n",
       "      <td>13.0</td>\n",
       "      <td>5.0</td>\n",
       "      <td>0.0</td>\n",
       "      <td>0.0</td>\n",
       "      <td>0.0</td>\n",
       "      <td>0.0</td>\n",
       "      <td>...</td>\n",
       "      <td>0.0</td>\n",
       "      <td>0.0</td>\n",
       "      <td>0.0</td>\n",
       "      <td>0.0</td>\n",
       "      <td>11.0</td>\n",
       "      <td>16.0</td>\n",
       "      <td>10.0</td>\n",
       "      <td>0.0</td>\n",
       "      <td>0.0</td>\n",
       "      <td>1</td>\n",
       "    </tr>\n",
       "    <tr>\n",
       "      <th>2</th>\n",
       "      <td>0.0</td>\n",
       "      <td>0.0</td>\n",
       "      <td>0.0</td>\n",
       "      <td>4.0</td>\n",
       "      <td>15.0</td>\n",
       "      <td>12.0</td>\n",
       "      <td>0.0</td>\n",
       "      <td>0.0</td>\n",
       "      <td>0.0</td>\n",
       "      <td>0.0</td>\n",
       "      <td>...</td>\n",
       "      <td>0.0</td>\n",
       "      <td>0.0</td>\n",
       "      <td>0.0</td>\n",
       "      <td>0.0</td>\n",
       "      <td>3.0</td>\n",
       "      <td>11.0</td>\n",
       "      <td>16.0</td>\n",
       "      <td>9.0</td>\n",
       "      <td>0.0</td>\n",
       "      <td>2</td>\n",
       "    </tr>\n",
       "    <tr>\n",
       "      <th>3</th>\n",
       "      <td>0.0</td>\n",
       "      <td>0.0</td>\n",
       "      <td>7.0</td>\n",
       "      <td>15.0</td>\n",
       "      <td>13.0</td>\n",
       "      <td>1.0</td>\n",
       "      <td>0.0</td>\n",
       "      <td>0.0</td>\n",
       "      <td>0.0</td>\n",
       "      <td>8.0</td>\n",
       "      <td>...</td>\n",
       "      <td>0.0</td>\n",
       "      <td>0.0</td>\n",
       "      <td>0.0</td>\n",
       "      <td>7.0</td>\n",
       "      <td>13.0</td>\n",
       "      <td>13.0</td>\n",
       "      <td>9.0</td>\n",
       "      <td>0.0</td>\n",
       "      <td>0.0</td>\n",
       "      <td>3</td>\n",
       "    </tr>\n",
       "    <tr>\n",
       "      <th>4</th>\n",
       "      <td>0.0</td>\n",
       "      <td>0.0</td>\n",
       "      <td>0.0</td>\n",
       "      <td>1.0</td>\n",
       "      <td>11.0</td>\n",
       "      <td>0.0</td>\n",
       "      <td>0.0</td>\n",
       "      <td>0.0</td>\n",
       "      <td>0.0</td>\n",
       "      <td>0.0</td>\n",
       "      <td>...</td>\n",
       "      <td>0.0</td>\n",
       "      <td>0.0</td>\n",
       "      <td>0.0</td>\n",
       "      <td>0.0</td>\n",
       "      <td>2.0</td>\n",
       "      <td>16.0</td>\n",
       "      <td>4.0</td>\n",
       "      <td>0.0</td>\n",
       "      <td>0.0</td>\n",
       "      <td>4</td>\n",
       "    </tr>\n",
       "  </tbody>\n",
       "</table>\n",
       "<p>5 rows × 65 columns</p>\n",
       "</div>"
      ],
      "text/plain": [
       "   pixel_0_0  pixel_0_1  pixel_0_2  pixel_0_3  pixel_0_4  pixel_0_5  \\\n",
       "0        0.0        0.0        5.0       13.0        9.0        1.0   \n",
       "1        0.0        0.0        0.0       12.0       13.0        5.0   \n",
       "2        0.0        0.0        0.0        4.0       15.0       12.0   \n",
       "3        0.0        0.0        7.0       15.0       13.0        1.0   \n",
       "4        0.0        0.0        0.0        1.0       11.0        0.0   \n",
       "\n",
       "   pixel_0_6  pixel_0_7  pixel_1_0  pixel_1_1  ...  pixel_6_7  pixel_7_0  \\\n",
       "0        0.0        0.0        0.0        0.0  ...        0.0        0.0   \n",
       "1        0.0        0.0        0.0        0.0  ...        0.0        0.0   \n",
       "2        0.0        0.0        0.0        0.0  ...        0.0        0.0   \n",
       "3        0.0        0.0        0.0        8.0  ...        0.0        0.0   \n",
       "4        0.0        0.0        0.0        0.0  ...        0.0        0.0   \n",
       "\n",
       "   pixel_7_1  pixel_7_2  pixel_7_3  pixel_7_4  pixel_7_5  pixel_7_6  \\\n",
       "0        0.0        6.0       13.0       10.0        0.0        0.0   \n",
       "1        0.0        0.0       11.0       16.0       10.0        0.0   \n",
       "2        0.0        0.0        3.0       11.0       16.0        9.0   \n",
       "3        0.0        7.0       13.0       13.0        9.0        0.0   \n",
       "4        0.0        0.0        2.0       16.0        4.0        0.0   \n",
       "\n",
       "   pixel_7_7  target  \n",
       "0        0.0       0  \n",
       "1        0.0       1  \n",
       "2        0.0       2  \n",
       "3        0.0       3  \n",
       "4        0.0       4  \n",
       "\n",
       "[5 rows x 65 columns]"
      ]
     },
     "execution_count": 6,
     "metadata": {},
     "output_type": "execute_result"
    }
   ],
   "source": [
    "digits_df = pd.DataFrame(data=digits.data, columns=digits.feature_names)\n",
    "\n",
    "digits_df['target'] = digits.target\n",
    "\n",
    "digits_df.head()\n"
   ]
  },
  {
   "cell_type": "markdown",
   "id": "bf2be3a5-9cc5-4ed3-9cf0-67e0f29f43cf",
   "metadata": {},
   "source": [
    "As it is a DataFrame, we can group to see the data distribution of the model"
   ]
  },
  {
   "cell_type": "code",
   "execution_count": 8,
   "id": "414579dd-0f4a-4e2d-992e-6930397d6b59",
   "metadata": {},
   "outputs": [],
   "source": [
    "target_counts = digits_df['target'].value_counts()\n",
    "target_counts_df = target_counts.reset_index()\n",
    "target_counts_df.columns = ['number', 'amount']"
   ]
  },
  {
   "cell_type": "markdown",
   "id": "c5cf577a-f02a-4214-aa76-7ab40ed40657",
   "metadata": {},
   "source": [
    "We have an evenly distributed, albeit small, dataset with which to train our supervised learning models"
   ]
  },
  {
   "cell_type": "markdown",
   "id": "a7c8c89a-a1fc-486e-b2cf-7b735a63ff74",
   "metadata": {},
   "source": [
    "# Spliting the data\n",
    "The data will be split into two sub datasets, one for training, one for testing. Proportions will be 80% and 20% respectively. Do note that it is preferable to do feature engineering to save some time before doing the split (except for the validation set which should be kept separated at all times), but since im not doing feature engineering in this small example we will procede with this step right away. Predictions in the test sets will be compared later between the two models. As there is no engineering, there will also not be a validation set."
   ]
  },
  {
   "cell_type": "markdown",
   "id": "a5e9a0cf-8735-4611-8208-009bfce772a5",
   "metadata": {},
   "source": [
    "#### Dataframe for Random Forests"
   ]
  },
  {
   "cell_type": "code",
   "execution_count": 12,
   "id": "64b6ee91-75ed-437e-bf58-7afa1186ac20",
   "metadata": {},
   "outputs": [
    {
     "name": "stdout",
     "output_type": "stream",
     "text": [
      "Values in each Dataframe\n",
      "train:  1437\n",
      "test:  360\n"
     ]
    }
   ],
   "source": [
    "df_train, df_test = train_test_split(digits_df, test_size=0.2, random_state=42)\n",
    "print('Values in each Dataframe')\n",
    "print('train: ', str(df_train.shape[0]))\n",
    "print('test: ', str(df_test.shape[0]))"
   ]
  },
  {
   "cell_type": "markdown",
   "id": "800099c7-7fb6-400f-aca0-855bc9bca415",
   "metadata": {},
   "source": [
    "#### Dataset for CNN"
   ]
  },
  {
   "cell_type": "code",
   "execution_count": 14,
   "id": "c1394464-75dd-4df4-92cf-cb9d9286fdb6",
   "metadata": {},
   "outputs": [],
   "source": [
    "class ImageDataset(Dataset):\n",
    "    def __init__(self, df):\n",
    "\n",
    "        self.df = df\n",
    "        self.pixel_columns = [f'pixel_{i}_{j}' for i in range(8) for j in range(8)]  # 8x8 pixels\n",
    "        self.target_column = 'target'\n",
    "        \n",
    "    def __len__(self):\n",
    "        return len(self.df)\n",
    "    \n",
    "    def __getitem__(self, idx):\n",
    "        \n",
    "        image = self.df.iloc[idx][self.pixel_columns].values \n",
    "        target = self.df.iloc[idx][self.target_column]  \n",
    "        \n",
    "        image = image.reshape(1, 8, 8) \n",
    "        \n",
    "        image = torch.tensor(image, dtype=torch.float32)\n",
    "        target = torch.tensor(target, dtype=torch.long) \n",
    "        \n",
    "        return image, target\n",
    "\n",
    "CNN_train = ImageDataset(df_train)\n",
    "CNN_test = ImageDataset(df_test)"
   ]
  },
  {
   "cell_type": "markdown",
   "id": "5205e491-0641-4dbf-be3e-1af625381fe0",
   "metadata": {},
   "source": [
    "# Definiton and training of the CNN"
   ]
  },
  {
   "cell_type": "markdown",
   "id": "3e518991-7695-4c51-a256-2ea125bc1780",
   "metadata": {},
   "source": [
    "This CNN will have two convolutional layers with max pooling applied to its outputs, and two fully conected layers"
   ]
  },
  {
   "cell_type": "code",
   "execution_count": 32,
   "id": "5ea6f424-dde5-44a2-851d-859312bbd6e7",
   "metadata": {},
   "outputs": [],
   "source": [
    "class NetCNN(nn.Module):\n",
    "    def __init__(self):\n",
    "\n",
    "        #Convolutional Layers\n",
    "        super(NetCNN, self).__init__()\n",
    "        self.conv1 = nn.Conv2d(in_channels=1, out_channels=6, kernel_size=3, stride=1, padding=1)\n",
    "        self.conv2 = nn.Conv2d(in_channels=6, out_channels=16, kernel_size=3, stride=1, padding=1)\n",
    "\n",
    "        #Fully Connected Layers\n",
    "        self.fc1 = nn.Linear(16 * 2 * 2, 120)  \n",
    "        self.fc2 = nn.Linear(120, 84)\n",
    "        self.fc3 = nn.Linear(84, 10)\n",
    "\n",
    "    def forward(self, x):\n",
    "        # Convolutional layers with ReLU activation and max pooling\n",
    "        x = F.max_pool2d(F.relu(self.conv1(x)), kernel_size=2, stride=2)  # Output: (6, 4, 4)\n",
    "        x = F.max_pool2d(F.relu(self.conv2(x)), kernel_size=2, stride=2)  # Output: (16, 2, 2)\n",
    "        \n",
    "        # Flatten the tensor for the fully connected layers\n",
    "        x = x.view(-1, 16 * 2 * 2)  # Flatten: 16 channels * 2x2 feature map size\n",
    "        \n",
    "        # Fully connected layers with ReLU activation\n",
    "        x = F.relu(self.fc1(x))\n",
    "        x = F.relu(self.fc2(x))\n",
    "        x = self.fc3(x)  # Output: 10 classes\n",
    "        \n",
    "        return x"
   ]
  },
  {
   "cell_type": "markdown",
   "id": "888bcccc-4042-41d9-b3b7-e22f0955f4ba",
   "metadata": {},
   "source": [
    "Training the CNN Model"
   ]
  },
  {
   "cell_type": "code",
   "execution_count": 49,
   "id": "7a092768-fa5e-434e-8566-b52e32d763c1",
   "metadata": {},
   "outputs": [],
   "source": [
    "learning_rate = 0.0001\n",
    "device = torch.device('cpu')\n",
    "net = NetCNN()\n",
    "net.to(device)\n",
    "optimizer = torch.optim.Adam(net.parameters(), lr=learning_rate)\n",
    "\n",
    "#Cross entropy to be used as Loss Function\n",
    "criterion = torch.nn.CrossEntropyLoss()\n",
    "loader = DataLoader(dataset=CNN_train, batch_size=20, shuffle=True)\n",
    "num_epochs = 20\n",
    "\n",
    "# Defining the forward and backward process\n",
    "for i in range(num_epochs):\n",
    "    for x, y in loader:\n",
    "        optimizer.zero_grad()\n",
    "        x = x.to(device)\n",
    "        y = y.to(device)\n",
    "        loss = criterion(net(x), y)\n",
    "        loss.backward()\n",
    "        optimizer.step()\n",
    "        \n",
    "torch.save(net.state_dict(), \"./cnn20.pth\")"
   ]
  },
  {
   "cell_type": "code",
   "execution_count": 51,
   "id": "93999a91-1d59-45d0-b694-c7ed607382f4",
   "metadata": {},
   "outputs": [
    {
     "name": "stdout",
     "output_type": "stream",
     "text": [
      "              precision    recall  f1-score   support\n",
      "\n",
      "           0       1.00      1.00      1.00        33\n",
      "           1       1.00      0.82      0.90        28\n",
      "           2       0.89      1.00      0.94        33\n",
      "           3       0.97      1.00      0.99        34\n",
      "           4       0.98      1.00      0.99        46\n",
      "           5       0.98      0.94      0.96        47\n",
      "           6       0.97      1.00      0.99        35\n",
      "           7       0.94      0.97      0.96        34\n",
      "           8       0.88      0.97      0.92        30\n",
      "           9       0.94      0.85      0.89        40\n",
      "\n",
      "    accuracy                           0.96       360\n",
      "   macro avg       0.96      0.95      0.95       360\n",
      "weighted avg       0.96      0.96      0.95       360\n",
      "\n"
     ]
    },
    {
     "name": "stderr",
     "output_type": "stream",
     "text": [
      "C:\\Users\\bmala\\AppData\\Local\\Temp\\ipykernel_12208\\1693141818.py:2: FutureWarning: You are using `torch.load` with `weights_only=False` (the current default value), which uses the default pickle module implicitly. It is possible to construct malicious pickle data which will execute arbitrary code during unpickling (See https://github.com/pytorch/pytorch/blob/main/SECURITY.md#untrusted-models for more details). In a future release, the default value for `weights_only` will be flipped to `True`. This limits the functions that could be executed during unpickling. Arbitrary objects will no longer be allowed to be loaded via this mode unless they are explicitly allowlisted by the user via `torch.serialization.add_safe_globals`. We recommend you start setting `weights_only=True` for any use case where you don't have full control of the loaded file. Please open an issue on GitHub for any issues related to this experimental feature.\n",
      "  net.load_state_dict(torch.load(\"./cnn20.pth\"))\n"
     ]
    }
   ],
   "source": [
    "net = NetCNN()\n",
    "net.load_state_dict(torch.load(\"./cnn20.pth\"))\n",
    "net.to(device)\n",
    "\n",
    "loader_test = DataLoader(dataset=CNN_test, batch_size=10000, shuffle=False)\n",
    "x_test = list(loader_test)[0][0]\n",
    "y_test = list(loader_test)[0][1]\n",
    "\n",
    "x_test = x_test.to(device)\n",
    "\n",
    "pred = net(x_test)\n",
    "\n",
    "pred_y = torch.max(pred.to(\"cpu\"), 1)[1].data.numpy()\n",
    "\n",
    "print(classification_report(y_test, pred_y))"
   ]
  },
  {
   "cell_type": "code",
   "execution_count": null,
   "id": "8cd50884-4e93-462d-ba62-6fa2d2c0a7f0",
   "metadata": {},
   "outputs": [],
   "source": []
  }
 ],
 "metadata": {
  "kernelspec": {
   "display_name": "Python 3 (ipykernel)",
   "language": "python",
   "name": "python3"
  },
  "language_info": {
   "codemirror_mode": {
    "name": "ipython",
    "version": 3
   },
   "file_extension": ".py",
   "mimetype": "text/x-python",
   "name": "python",
   "nbconvert_exporter": "python",
   "pygments_lexer": "ipython3",
   "version": "3.11.7"
  }
 },
 "nbformat": 4,
 "nbformat_minor": 5
}
